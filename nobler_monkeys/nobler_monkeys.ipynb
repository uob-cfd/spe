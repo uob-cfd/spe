{
 "cells": [
  {
   "cell_type": "markdown",
   "metadata": {},
   "source": [
    "# The noble monkeys and the Moderna vaccine"
   ]
  },
  {
   "cell_type": "code",
   "execution_count": null,
   "metadata": {},
   "outputs": [],
   "source": [
    "# Don't change this cell; just run it.\n",
    "import numpy as np\n",
    "import pandas as pd\n",
    "# Safe settings for Pandas.\n",
    "pd.set_option('mode.chained_assignment', 'raise')\n",
    "import matplotlib.pyplot as plt\n",
    "%matplotlib inline\n",
    "# The OKpy testing system.\n",
    "from client.api.notebook import Notebook\n",
    "ok = Notebook('nobler_monkeys.ok')"
   ]
  },
  {
   "cell_type": "markdown",
   "metadata": {},
   "source": [
    "The tests in this notebook usually do not test if you have the *right* answer,\n",
    "but only if you have the *right sort* of answer.  *Be careful* -- the tests\n",
    "could pass, but your answer could still be wrong."
   ]
  },
  {
   "cell_type": "markdown",
   "metadata": {},
   "source": [
    "## Background\n",
    "\n",
    "We are scientists evaluating data in the middle of a pandemic, and we again\n",
    "have the task of deciding whether the Moderna vaccine\n",
    "[mRNA-1273](https://en.wikipedia.org/wiki/Moderna#COVID-19_vaccine_candidate)\n",
    "for COVID-19 is effective or not.\n",
    "\n",
    "The full clinical trials are not yet out, but we have some [data from a study\n",
    "on rhesus macaque\n",
    "monkeys](https://www.nejm.org/doi/full/10.1056/NEJMoa2024671).\n",
    "\n",
    "There were three groups of monkeys in the study.   All monkeys in each group\n",
    "had got two injections of their allocated vaccination type, four weeks apart.\n",
    "Their vaccination types were:\n",
    "\n",
    "* **High-dose vaccine** (HDV) - 100 micrograms of the vaccine - 8 monkeys.\n",
    "* **Low-dose vaccine** (LDV) - 10 micrograms of the vaccine - 8 monkeys.\n",
    "* **Placebo** (PLAC) - salt water - 8 monkeys.\n",
    "\n",
    "Here we only consider the HDV group and the Placebo group.  We call the HDV\n",
    "group the \"Modvax\" group.\n",
    "\n",
    "Four weeks after their second vaccination, the team infected each monkey with\n",
    "COVID-19, and then measured various aspects of their response.\n",
    "\n",
    "One aspect of their response was the number of copies of virus RNA they recovered from a nasal swab 2 days after infection.\n",
    "\n",
    "Here are those numbers."
   ]
  },
  {
   "cell_type": "code",
   "execution_count": null,
   "metadata": {},
   "outputs": [],
   "source": [
    "nobler = pd.read_csv('nobler_monkeys.csv')\n",
    "nobler"
   ]
  },
  {
   "cell_type": "markdown",
   "metadata": {},
   "source": [
    "You can confirm these numbers for yourself from the paper's [supplementary\n",
    "Appendix 2\n",
    "spreadsheet](https://www.nejm.org/doi/suppl/10.1056/NEJMoa2024671/suppl_file/nejmoa2024671_appendix_2.xlsx).\n",
    "They are the day 2 Nasal Swab (NS) values of \"Viral RNA copies / mL\"."
   ]
  },
  {
   "cell_type": "markdown",
   "metadata": {},
   "source": [
    "Notice that the first 8 rows correspond to the 8 monkeys who received the\n",
    "Moderna vaccine, and final 8 rows correspond the monkey receiving the placebo.\n",
    "\n",
    "To make things a little simpler, we get the number of RNA copies as an array,\n",
    "and divide by 1000, to give the number of kilocopies."
   ]
  },
  {
   "cell_type": "code",
   "execution_count": null,
   "metadata": {},
   "outputs": [],
   "source": [
    "rna_copies_k = np.array(nobler['RNA copies']) / 1000"
   ]
  },
  {
   "cell_type": "markdown",
   "metadata": {},
   "source": [
    "## Your task\n",
    "\n",
    "We are interested in the difference between these two groups of 8 numbers.\n",
    "\n",
    "As responsible analysts of data, we start by plotting the distributions of the two groups:"
   ]
  },
  {
   "cell_type": "code",
   "execution_count": null,
   "metadata": {},
   "outputs": [],
   "source": [
    "# Plot the two distributions side by side.\n",
    "fig, axes = plt.subplots(1, 2)\n",
    "axes[0].hist(rna_copies_k[:8]);\n",
    "axes[0].set_title('Modvax group')\n",
    "axes[1].hist(rna_copies_k[8:]);\n",
    "axes[1].set_title('Placebo group');"
   ]
  },
  {
   "cell_type": "markdown",
   "metadata": {},
   "source": [
    "Now consider the means of the two groups.  The means are:"
   ]
  },
  {
   "cell_type": "code",
   "execution_count": null,
   "metadata": {},
   "outputs": [],
   "source": [
    "modvax_mean = np.mean(rna_copies_k[:8])\n",
    "placebo_mean = np.mean(rna_copies_k[8:])\n",
    "print('Modvax mean', modvax_mean)\n",
    "print('Placebo mean', placebo_mean)"
   ]
  },
  {
   "cell_type": "markdown",
   "metadata": {},
   "source": [
    "As expected, the placebo group have, on average, more viral copies in their\n",
    "noses, at day 2 of the infection.\n",
    "\n",
    "The mean difference is:"
   ]
  },
  {
   "cell_type": "code",
   "execution_count": null,
   "metadata": {},
   "outputs": [],
   "source": [
    "plac_modvax_diff = placebo_mean - modvax_mean\n",
    "print('Placebo - modvax mean difference', plac_modvax_diff)"
   ]
  },
  {
   "cell_type": "markdown",
   "metadata": {},
   "source": [
    "Your job is to do a *permutation* test, to see whether this observed mean\n",
    "difference is plausible in an ideal (null) world, where there is no real\n",
    "difference between the groups, and any observed difference is just due to\n",
    "random sampling.\n",
    "\n",
    "We simulate samples from such an ideal world by shuffling the 16 values randomly, allocating 8 shuffled values to a fake Modvax group, and the other 8 to the fake Placebo group, and calculating the mean difference for these fake groups.  We do this many times to build up the *sampling distribution* of these fake differences.\n",
    "\n",
    "To do this job, you may want to remind yourself of the [permutation\n",
    "idea](https://matthew-brett.github.io/cfd2020/permutation/permutation_idea.html) notebook in the\n",
    "textbook.\n",
    "\n",
    "You may well want to start with a cell that does one trial where you:\n",
    "\n",
    "* shuffle the values\n",
    "* split them into two groups of 8\n",
    "* calculate the difference in means."
   ]
  },
  {
   "cell_type": "code",
   "execution_count": null,
   "metadata": {},
   "outputs": [],
   "source": [
    "#- You may want to simulate a single trial here."
   ]
  },
  {
   "cell_type": "markdown",
   "metadata": {},
   "source": [
    "Then finish up the cell below to build your sampling distribution, storing the values in the array `fake_diffs`."
   ]
  },
  {
   "cell_type": "code",
   "execution_count": null,
   "metadata": {},
   "outputs": [],
   "source": [
    "# Build up the sampling distribution from the ideal (null) world.\n",
    "n_iters = 10000\n",
    "fake_diffs = ...\n",
    "# Show the first 10 values.\n",
    "fake_diffs[:10]"
   ]
  },
  {
   "cell_type": "code",
   "execution_count": null,
   "metadata": {},
   "outputs": [],
   "source": [
    "_ = ok.grade('q_fake_diffs')"
   ]
  },
  {
   "cell_type": "markdown",
   "metadata": {},
   "source": [
    "You might also like to review the histogram of these values, to compare by eye to the value in the real world, `plac_modvax_diff`."
   ]
  },
  {
   "cell_type": "code",
   "execution_count": null,
   "metadata": {},
   "outputs": [],
   "source": [
    "#- Consider a histogram of the sampling distribution here."
   ]
  },
  {
   "cell_type": "markdown",
   "metadata": {},
   "source": [
    "Calculate the proportion of the sampling distribution values that are greater than or equal to the observed difference in means."
   ]
  },
  {
   "cell_type": "code",
   "execution_count": null,
   "metadata": {},
   "outputs": [],
   "source": [
    "prop_ge = ...\n",
    "# Show the proportion.\n",
    "prop_ge"
   ]
  },
  {
   "cell_type": "code",
   "execution_count": null,
   "metadata": {},
   "outputs": [],
   "source": [
    "_ = ok.grade('q_prop_ge')"
   ]
  },
  {
   "cell_type": "markdown",
   "metadata": {},
   "source": [
    "## Done\n",
    "\n",
    "You're finished with the assignment!  Be sure to...\n",
    "\n",
    "- **run all the tests** (the next cell has a shortcut for that),\n",
    "- **Save and Checkpoint** from the \"File\" menu.\n",
    "- Finally, **restart** the kernel for this notebook, and **run all the cells**,\n",
    "  to check that the notebook still works without errors.  Use the\n",
    "  \"Kernel\" menu, and choose \"Restart and run all\".  If you find any\n",
    "  problems, go back and fix them, save the notebook, and restart / run\n",
    "  all again, before submitting.  When you do this, you make sure that\n",
    "  we, your humble markers, will be able to mark your notebook."
   ]
  },
  {
   "cell_type": "code",
   "execution_count": null,
   "metadata": {},
   "outputs": [],
   "source": [
    "# For your convenience, you can run this cell to run all the tests at once!\n",
    "import os\n",
    "_ = [ok.grade(q[:-3]) for q in os.listdir(\"tests\") if q.startswith('q')]"
   ]
  }
 ],
 "metadata": {
  "jupytext": {
   "notebook_metadata_filter": "all,-language_info",
   "split_at_heading": true,
   "text_representation": {
    "extension": ".Rmd",
    "format_name": "rmarkdown",
    "format_version": "1.2",
    "jupytext_version": "1.6.0"
   }
  },
  "kernelspec": {
   "display_name": "Python 3",
   "language": "python",
   "name": "python3"
  }
 },
 "nbformat": 4,
 "nbformat_minor": 4
}
