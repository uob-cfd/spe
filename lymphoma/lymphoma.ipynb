{
 "cells": [
  {
   "cell_type": "markdown",
   "metadata": {},
   "source": [
    "# A cure for cancer?"
   ]
  },
  {
   "cell_type": "markdown",
   "metadata": {},
   "source": [
    "## Preliminaries"
   ]
  },
  {
   "cell_type": "code",
   "execution_count": null,
   "metadata": {},
   "outputs": [],
   "source": [
    "# Run this cell to start.\n",
    "import numpy as np\n",
    "\n",
    "# Load the OKpy test library and tests.\n",
    "from client.api.notebook import Notebook\n",
    "ok = Notebook('lymphoma.ok')"
   ]
  },
  {
   "cell_type": "markdown",
   "metadata": {},
   "source": [
    "The tests in this notebook do not test if you have the right answer, but only\n",
    "if you have the *right sort* of answer.  *Be careful* -- the tests could pass, but your answer could still be wrong."
   ]
  },
  {
   "cell_type": "markdown",
   "metadata": {},
   "source": [
    "## Is there a cure?\n",
    "\n",
    "At the time I wrote this, you can find the following on the [Wikipedia page for\n",
    "Burkitt's\n",
    "Lymphoma](https://en.wikipedia.org/wiki/Burkitt%27s_lymphoma#Prognosis).\n",
    "\n",
    "> The overall cure rate for Burkitt's lymphoma in developed countries is\n",
    "> about 90%, but worse in low-income countries. Burkitt's lymphoma is\n",
    "> uncommon in adults, where it has a worse prognosis (Molyneux et al 2012).\n",
    ">\n",
    "> In 2006, treatment with dose-adjusted EPOCH with Rituximab showed\n",
    "> promising initial results in a small series of patients (n=17), with\n",
    "> a 100% response rate, and 100% overall survival and progression-free\n",
    "> survival at 28 months (median follow-up) (Dunleavy et al 2006).\n",
    "\n",
    "* Molyneux *et al* (2012). Burkitt's Lymphoma.  The Lancet, 379(9822),\n",
    "  1234-1244.\n",
    "* Dunleavy *et al* (2006). Novel Treatment of Burkitt Lymphoma with\n",
    "  Dose-Adjusted EPOCH-Rituximab: Preliminary Results Showing Excellent Outcome.\n",
    "  Blood, 108(11), 2736–2736.\n",
    "\n",
    "How likely is it that the Dunleavy 2006 study results, or better, could have\n",
    "come about by chance?\n",
    "\n",
    "You can use the tools you already know like this:\n",
    "\n",
    "* Your ideal (null) model is that the EPOCH study was, in fact, no more\n",
    "  effective than any other standard therapy.\n",
    "* You are going to simulate 10000 trials, using this model.\n",
    "* In each trial, you will make 17 simulated patients, each with a 90%\n",
    "  chance of being cured.  Then count how many of the 17 patients were cured.\n",
    "* At the end of your simulation, you should have 10000 counts of the number of\n",
    "  simulated patients, out of 17, who were cured.  Store these counts in\n",
    "  a variable `counts`."
   ]
  },
  {
   "cell_type": "code",
   "execution_count": null,
   "metadata": {},
   "outputs": [],
   "source": [
    "#- Simulate 10000 trials of 17 patients\n",
    "counts = ...\n",
    "# Show the first five counts\n",
    "counts[:5]"
   ]
  },
  {
   "cell_type": "code",
   "execution_count": null,
   "metadata": {},
   "outputs": [],
   "source": [
    "# Test you are on the right track.\n",
    "_ = ok.grade('q_01_counts')"
   ]
  },
  {
   "cell_type": "markdown",
   "metadata": {},
   "source": [
    "Calculate the *proportion* `p_100` of `counts` that correspond to 100% response\n",
    "rate (17 out of 17):"
   ]
  },
  {
   "cell_type": "code",
   "execution_count": null,
   "metadata": {},
   "outputs": [],
   "source": [
    "p_100 = ...\n",
    "# Show the value\n",
    "p_100"
   ]
  },
  {
   "cell_type": "code",
   "execution_count": null,
   "metadata": {},
   "outputs": [],
   "source": [
    "# Test you are on the right track.\n",
    "_ = ok.grade('q_02_p_100')"
   ]
  },
  {
   "cell_type": "markdown",
   "metadata": {},
   "source": [
    "## The rush to publish\n",
    "\n",
    "One big problem in medical research, as in other research, is the *file-drawer\n",
    "effect*, also called [publication\n",
    "bias](https://en.wikipedia.org/wiki/Publication_bias).\n",
    "\n",
    "The problem is that there may be multiple labs testing the same treatment.\n",
    "Labs that do not find a surprising result, will probably not publish a paper.  Labs that do, probably will publish a paper.\n",
    "\n",
    "Imagine there were four labs all testing the same treatment as Dunleavy *et\n",
    "al*.  They also tested 17 patients, and looked at the number of patients\n",
    "who are progression-free after about 28 months follow-up - like Dunleavy. Again\n",
    "imagine, in our ideal model of the world, the treatment is, in fact, no more\n",
    "effective than average.\n",
    "\n",
    "Now imagine that each of the four labs will publish a paper if they get 17 of 17 progression-free survival rate, and will not publish otherwise.\n",
    "\n",
    "In this ideal world, what is the chance that at least one lab will publish a paper?\n",
    "\n",
    "Here is a sketch of a simulation of one trial in that world:"
   ]
  },
  {
   "cell_type": "code",
   "execution_count": null,
   "metadata": {
    "tags": [
     "raises-exception"
    ]
   },
   "outputs": [],
   "source": [
    "# This code is rather ugly, and needs editing to work correctly.\n",
    "lab_counts = np.zeros(4)\n",
    "lab_counts[0] = ... # Simulate a count of patients cured in first lab.\n",
    "lab_counts[1] = ... # Simulate a count of patients cured in second lab.\n",
    "lab_counts[2] = ... # Simulate a count of patients cured in third lab.\n",
    "lab_counts[3] = ... # Simulate a count of patients cured for fourth lab.\n",
    "n_publications = np.count_nonzero(lab_counts == 17)"
   ]
  },
  {
   "cell_type": "markdown",
   "metadata": {},
   "source": [
    "Now do a simulation of 10000 trials like this.  Count the number of publications for each trial.  Store the number of publications for each trial in an array `publications`.\n"
   ]
  },
  {
   "cell_type": "code",
   "execution_count": null,
   "metadata": {},
   "outputs": [],
   "source": [
    "#- Simulate 10000 trials of four labs, each studying 17 patients.\n",
    "publications = ...\n",
    "# Show the first five publication counts\n",
    "publications[:5]"
   ]
  },
  {
   "cell_type": "code",
   "execution_count": null,
   "metadata": {},
   "outputs": [],
   "source": [
    "# Test you are on the right track.\n",
    "_ = ok.grade('q_04_publications')"
   ]
  },
  {
   "cell_type": "markdown",
   "metadata": {},
   "source": [
    "In this world, where each trial has four labs, each testing the same thing,\n",
    "what proportion of trials give at least one publication?"
   ]
  },
  {
   "cell_type": "code",
   "execution_count": null,
   "metadata": {},
   "outputs": [],
   "source": [
    "p_at_least_one = ...\n",
    "# Show the value\n",
    "p_at_least_one"
   ]
  },
  {
   "cell_type": "code",
   "execution_count": null,
   "metadata": {},
   "outputs": [],
   "source": [
    "# Test you are on the right track.\n",
    "_ = ok.grade('q_05_p_at_least_one')"
   ]
  },
  {
   "cell_type": "markdown",
   "metadata": {},
   "source": [
    "With the evidence you have here, in the Wikipedia page, and from any extra\n",
    "reading you would like to do, how likely is it that the treatment that Dunleavy\n",
    "*et al* used is really more effective than other standard treatments for\n",
    "Burkitt's lymphoma?  If you had Burkitt's lymphoma, would you insist on this\n",
    "treatment?  Give your answer, with arguments, in the space below."
   ]
  },
  {
   "cell_type": "markdown",
   "metadata": {
    "manual_grade": true,
    "manual_problem_id": "dunleavy_plausible"
   },
   "source": [
    "*Write your answer here, replacing this text.*"
   ]
  },
  {
   "cell_type": "markdown",
   "metadata": {},
   "source": [
    "## Done\n",
    "\n",
    "You're finished with the assignment!  Be sure to...\n",
    "\n",
    "- **run all the tests** (the next cell has a shortcut for that),\n",
    "- **Save and Checkpoint** from the \"File\" menu.\n",
    "- Finally, **restart** the kernel for this notebook, and **run all the cells**,\n",
    "  to check that the notebook still works without errors.  Use the\n",
    "  \"Kernel\" menu, and choose \"Restart and Run All\".  If you find any\n",
    "  problems, go back and fix them, save the notebook, and restart / run\n",
    "  all again, before submitting."
   ]
  },
  {
   "cell_type": "code",
   "execution_count": null,
   "metadata": {},
   "outputs": [],
   "source": [
    "# For your convenience, you can run this cell to run all the tests at once!\n",
    "import os\n",
    "_ = [ok.grade(q[:-3]) for q in os.listdir(\"tests\") if q.startswith('q')]"
   ]
  }
 ],
 "metadata": {
  "jupytext": {
   "cell_metadata_json": true,
   "split_at_heading": true,
   "text_representation": {
    "extension": ".Rmd",
    "format_name": "rmarkdown",
    "format_version": "1.1",
    "jupytext_version": "1.2.4"
   }
  },
  "kernelspec": {
   "display_name": "Python 3",
   "language": "python",
   "name": "python3"
  }
 },
 "nbformat": 4,
 "nbformat_minor": 4
}
